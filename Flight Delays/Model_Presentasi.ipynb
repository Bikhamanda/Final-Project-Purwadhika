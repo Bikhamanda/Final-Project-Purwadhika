{
 "cells": [
  {
   "cell_type": "code",
   "execution_count": 1,
   "metadata": {},
   "outputs": [],
   "source": [
    "import datetime, warnings, scipy\n",
    "import pandas as pd\n",
    "import numpy as np\n",
    "import seaborn as sns\n",
    "import matplotlib as mpl\n",
    "import matplotlib.pyplot as plt\n",
    "import matplotlib.patches as patches\n",
    "from datetime import date\n",
    "from matplotlib.patches import ConnectionPatch\n",
    "from collections import OrderedDict\n",
    "from matplotlib.gridspec import GridSpec\n",
    "# from mpl_toolkits.basemap import Basemap\n",
    "from sklearn import metrics, linear_model\n",
    "from sklearn.preprocessing import PolynomialFeatures, StandardScaler\n",
    "from sklearn.preprocessing import LabelEncoder, OneHotEncoder\n",
    "from sklearn.model_selection import train_test_split, cross_val_score, cross_val_predict\n",
    "from scipy.optimize import curve_fit\n",
    "plt.rcParams[\"patch.force_edgecolor\"] = True\n",
    "plt.style.use('fivethirtyeight')\n",
    "mpl.rc('patch', edgecolor = 'dimgray', linewidth=1)\n",
    "from IPython.core.interactiveshell import InteractiveShell\n",
    "InteractiveShell.ast_node_interactivity = \"last_expr\"\n",
    "pd.options.display.max_columns = 50\n",
    "%matplotlib inline\n",
    "warnings.filterwarnings(\"ignore\")"
   ]
  },
  {
   "cell_type": "code",
   "execution_count": 2,
   "metadata": {},
   "outputs": [],
   "source": [
    "df = pd.read_csv('sample_Flights_Delay_clean.csv')"
   ]
  },
  {
   "cell_type": "code",
   "execution_count": 3,
   "metadata": {},
   "outputs": [
    {
     "data": {
      "text/html": [
       "<div>\n",
       "<style scoped>\n",
       "    .dataframe tbody tr th:only-of-type {\n",
       "        vertical-align: middle;\n",
       "    }\n",
       "\n",
       "    .dataframe tbody tr th {\n",
       "        vertical-align: top;\n",
       "    }\n",
       "\n",
       "    .dataframe thead th {\n",
       "        text-align: right;\n",
       "    }\n",
       "</style>\n",
       "<table border=\"1\" class=\"dataframe\">\n",
       "  <thead>\n",
       "    <tr style=\"text-align: right;\">\n",
       "      <th></th>\n",
       "      <th>AIRLINE</th>\n",
       "      <th>ABBR_AIRLINE</th>\n",
       "      <th>ORIGIN_AIRPORT</th>\n",
       "      <th>DESTINATION_AIRPORT</th>\n",
       "      <th>DISTANCE</th>\n",
       "      <th>SD_MONTH</th>\n",
       "      <th>SCHEDULED_DEPARTURE</th>\n",
       "      <th>DEPARTURE_TIME</th>\n",
       "      <th>DEPARTURE_DELAY</th>\n",
       "      <th>SCHEDULED_ARRIVAL</th>\n",
       "      <th>ARRIVAL_TIME</th>\n",
       "      <th>ARRIVAL_DELAY</th>\n",
       "      <th>TAXI_OUT</th>\n",
       "      <th>WHEELS_OFF</th>\n",
       "      <th>AIR_TIME</th>\n",
       "      <th>WHEELS_ON</th>\n",
       "      <th>TAXI_IN</th>\n",
       "      <th>ELAPSED_TIME</th>\n",
       "      <th>SCHEDULED_TIME</th>\n",
       "      <th>TOTAL_DELAY</th>\n",
       "      <th>TOTAL_DELAY_MIN</th>\n",
       "      <th>DELAY</th>\n",
       "    </tr>\n",
       "  </thead>\n",
       "  <tbody>\n",
       "    <tr>\n",
       "      <th>0</th>\n",
       "      <td>US</td>\n",
       "      <td>US Airways Inc.</td>\n",
       "      <td>PHX</td>\n",
       "      <td>EWR</td>\n",
       "      <td>2133</td>\n",
       "      <td>1</td>\n",
       "      <td>1/23/2015 9:45</td>\n",
       "      <td>1/23/2015 9:43</td>\n",
       "      <td>-2</td>\n",
       "      <td>1/23/2015 16:22</td>\n",
       "      <td>1/23/2015 16:21</td>\n",
       "      <td>-1</td>\n",
       "      <td>16</td>\n",
       "      <td>959</td>\n",
       "      <td>255</td>\n",
       "      <td>1614</td>\n",
       "      <td>7</td>\n",
       "      <td>278</td>\n",
       "      <td>277</td>\n",
       "      <td>-1 days +23:59:00.000000000</td>\n",
       "      <td>-1</td>\n",
       "      <td>0</td>\n",
       "    </tr>\n",
       "    <tr>\n",
       "      <th>1</th>\n",
       "      <td>WN</td>\n",
       "      <td>Southwest Airlines Co.</td>\n",
       "      <td>PDX</td>\n",
       "      <td>SMF</td>\n",
       "      <td>479</td>\n",
       "      <td>9</td>\n",
       "      <td>9/20/2015 13:05</td>\n",
       "      <td>9/20/2015 13:00</td>\n",
       "      <td>-5</td>\n",
       "      <td>9/20/2015 14:30</td>\n",
       "      <td>9/20/2015 14:26</td>\n",
       "      <td>-4</td>\n",
       "      <td>11</td>\n",
       "      <td>1311</td>\n",
       "      <td>70</td>\n",
       "      <td>1421</td>\n",
       "      <td>5</td>\n",
       "      <td>86</td>\n",
       "      <td>85</td>\n",
       "      <td>-1 days +23:56:00.000000000</td>\n",
       "      <td>-4</td>\n",
       "      <td>0</td>\n",
       "    </tr>\n",
       "    <tr>\n",
       "      <th>2</th>\n",
       "      <td>AS</td>\n",
       "      <td>Alaska Airlines Inc.</td>\n",
       "      <td>FLL</td>\n",
       "      <td>SEA</td>\n",
       "      <td>2717</td>\n",
       "      <td>7</td>\n",
       "      <td>7/3/2015 18:45</td>\n",
       "      <td>7/3/2015 18:41</td>\n",
       "      <td>-4</td>\n",
       "      <td>7/3/2015 22:03</td>\n",
       "      <td>7/3/2015 22:13</td>\n",
       "      <td>10</td>\n",
       "      <td>13</td>\n",
       "      <td>1854</td>\n",
       "      <td>360</td>\n",
       "      <td>2154</td>\n",
       "      <td>19</td>\n",
       "      <td>392</td>\n",
       "      <td>378</td>\n",
       "      <td>0 days 00:10:00.000000000</td>\n",
       "      <td>10</td>\n",
       "      <td>1</td>\n",
       "    </tr>\n",
       "    <tr>\n",
       "      <th>3</th>\n",
       "      <td>DL</td>\n",
       "      <td>Delta Air Lines Inc.</td>\n",
       "      <td>MCO</td>\n",
       "      <td>ATL</td>\n",
       "      <td>404</td>\n",
       "      <td>8</td>\n",
       "      <td>8/21/2015 14:30</td>\n",
       "      <td>8/21/2015 14:29</td>\n",
       "      <td>-1</td>\n",
       "      <td>8/21/2015 16:15</td>\n",
       "      <td>8/21/2015 15:52</td>\n",
       "      <td>-23</td>\n",
       "      <td>13</td>\n",
       "      <td>1442</td>\n",
       "      <td>65</td>\n",
       "      <td>1547</td>\n",
       "      <td>5</td>\n",
       "      <td>83</td>\n",
       "      <td>105</td>\n",
       "      <td>-1 days +23:37:00.000000000</td>\n",
       "      <td>-23</td>\n",
       "      <td>0</td>\n",
       "    </tr>\n",
       "    <tr>\n",
       "      <th>4</th>\n",
       "      <td>OO</td>\n",
       "      <td>Skywest Airlines Inc.</td>\n",
       "      <td>SBA</td>\n",
       "      <td>PHX</td>\n",
       "      <td>455</td>\n",
       "      <td>1</td>\n",
       "      <td>1/11/2015 19:20</td>\n",
       "      <td>1/11/2015 20:01</td>\n",
       "      <td>41</td>\n",
       "      <td>1/11/2015 21:47</td>\n",
       "      <td>1/11/2015 22:20</td>\n",
       "      <td>33</td>\n",
       "      <td>8</td>\n",
       "      <td>2009</td>\n",
       "      <td>66</td>\n",
       "      <td>2215</td>\n",
       "      <td>5</td>\n",
       "      <td>79</td>\n",
       "      <td>87</td>\n",
       "      <td>0 days 00:33:00.000000000</td>\n",
       "      <td>33</td>\n",
       "      <td>1</td>\n",
       "    </tr>\n",
       "  </tbody>\n",
       "</table>\n",
       "</div>"
      ],
      "text/plain": [
       "  AIRLINE            ABBR_AIRLINE ORIGIN_AIRPORT DESTINATION_AIRPORT  \\\n",
       "0      US         US Airways Inc.            PHX                 EWR   \n",
       "1      WN  Southwest Airlines Co.            PDX                 SMF   \n",
       "2      AS    Alaska Airlines Inc.            FLL                 SEA   \n",
       "3      DL    Delta Air Lines Inc.            MCO                 ATL   \n",
       "4      OO   Skywest Airlines Inc.            SBA                 PHX   \n",
       "\n",
       "   DISTANCE  SD_MONTH SCHEDULED_DEPARTURE   DEPARTURE_TIME  DEPARTURE_DELAY  \\\n",
       "0      2133         1      1/23/2015 9:45   1/23/2015 9:43               -2   \n",
       "1       479         9     9/20/2015 13:05  9/20/2015 13:00               -5   \n",
       "2      2717         7      7/3/2015 18:45   7/3/2015 18:41               -4   \n",
       "3       404         8     8/21/2015 14:30  8/21/2015 14:29               -1   \n",
       "4       455         1     1/11/2015 19:20  1/11/2015 20:01               41   \n",
       "\n",
       "  SCHEDULED_ARRIVAL     ARRIVAL_TIME  ARRIVAL_DELAY  TAXI_OUT  WHEELS_OFF  \\\n",
       "0   1/23/2015 16:22  1/23/2015 16:21             -1        16         959   \n",
       "1   9/20/2015 14:30  9/20/2015 14:26             -4        11        1311   \n",
       "2    7/3/2015 22:03   7/3/2015 22:13             10        13        1854   \n",
       "3   8/21/2015 16:15  8/21/2015 15:52            -23        13        1442   \n",
       "4   1/11/2015 21:47  1/11/2015 22:20             33         8        2009   \n",
       "\n",
       "   AIR_TIME  WHEELS_ON  TAXI_IN  ELAPSED_TIME  SCHEDULED_TIME  \\\n",
       "0       255       1614        7           278             277   \n",
       "1        70       1421        5            86              85   \n",
       "2       360       2154       19           392             378   \n",
       "3        65       1547        5            83             105   \n",
       "4        66       2215        5            79              87   \n",
       "\n",
       "                   TOTAL_DELAY  TOTAL_DELAY_MIN  DELAY  \n",
       "0  -1 days +23:59:00.000000000               -1      0  \n",
       "1  -1 days +23:56:00.000000000               -4      0  \n",
       "2    0 days 00:10:00.000000000               10      1  \n",
       "3  -1 days +23:37:00.000000000              -23      0  \n",
       "4    0 days 00:33:00.000000000               33      1  "
      ]
     },
     "execution_count": 3,
     "metadata": {},
     "output_type": "execute_result"
    }
   ],
   "source": [
    "df.head()"
   ]
  },
  {
   "cell_type": "code",
   "execution_count": 4,
   "metadata": {},
   "outputs": [
    {
     "name": "stdout",
     "output_type": "stream",
     "text": [
      "<class 'pandas.core.frame.DataFrame'>\n",
      "RangeIndex: 236662 entries, 0 to 236661\n",
      "Data columns (total 22 columns):\n",
      "AIRLINE                236662 non-null object\n",
      "ABBR_AIRLINE           236662 non-null object\n",
      "ORIGIN_AIRPORT         236662 non-null object\n",
      "DESTINATION_AIRPORT    236662 non-null object\n",
      "DISTANCE               236662 non-null int64\n",
      "SD_MONTH               236662 non-null int64\n",
      "SCHEDULED_DEPARTURE    236662 non-null object\n",
      "DEPARTURE_TIME         236662 non-null object\n",
      "DEPARTURE_DELAY        236662 non-null int64\n",
      "SCHEDULED_ARRIVAL      236662 non-null object\n",
      "ARRIVAL_TIME           236662 non-null object\n",
      "ARRIVAL_DELAY          236662 non-null int64\n",
      "TAXI_OUT               236662 non-null int64\n",
      "WHEELS_OFF             236662 non-null int64\n",
      "AIR_TIME               236662 non-null int64\n",
      "WHEELS_ON              236662 non-null int64\n",
      "TAXI_IN                236662 non-null int64\n",
      "ELAPSED_TIME           236662 non-null int64\n",
      "SCHEDULED_TIME         236662 non-null int64\n",
      "TOTAL_DELAY            236662 non-null object\n",
      "TOTAL_DELAY_MIN        236662 non-null int64\n",
      "DELAY                  236662 non-null int64\n",
      "dtypes: int64(13), object(9)\n",
      "memory usage: 39.7+ MB\n"
     ]
    }
   ],
   "source": [
    "df.info()"
   ]
  },
  {
   "cell_type": "code",
   "execution_count": 5,
   "metadata": {},
   "outputs": [],
   "source": [
    "df['SCHEDULED_DEPARTURE'] = pd.to_datetime(df['SCHEDULED_DEPARTURE'])\n",
    "df['DEPARTURE_TIME'] = pd.to_datetime(df['DEPARTURE_TIME'])\n",
    "df['SCHEDULED_ARRIVAL'] = pd.to_datetime(df['SCHEDULED_ARRIVAL'])\n",
    "df['ARRIVAL_TIME'] = pd.to_datetime(df['ARRIVAL_TIME'])"
   ]
  },
  {
   "cell_type": "markdown",
   "metadata": {},
   "source": [
    "# Feature Engineering\n",
    "Mengubah menjadi day, month, dan hour feature, dari semua timestamp menjadi feature (SCHEDULED_DEPARTURE, DEPARTURE_TIME, SCHEDULED_ARRIVAL, ARRIVAL_TIME)"
   ]
  },
  {
   "cell_type": "code",
   "execution_count": 6,
   "metadata": {},
   "outputs": [],
   "source": [
    "df['SD_DAY'] = df['SCHEDULED_DEPARTURE'].dt.day\n",
    "df['SD_HOUR'] = df['SCHEDULED_DEPARTURE'].dt.hour\n",
    "\n",
    "df['DT_DAY'] = df['DEPARTURE_TIME'].dt.day\n",
    "df['DT_MONTH'] = df['DEPARTURE_TIME'].dt.month\n",
    "df['DT_HOUR'] = df['DEPARTURE_TIME'].dt.hour\n",
    "\n",
    "df['SA_DAY'] = df['SCHEDULED_ARRIVAL'].dt.day\n",
    "df['SA_MONTH'] = df['SCHEDULED_ARRIVAL'].dt.month\n",
    "df['SA_HOUR'] = df['SCHEDULED_ARRIVAL'].dt.hour\n",
    "\n",
    "df['AT_DAY'] = df['ARRIVAL_TIME'].dt.day\n",
    "df['AT_MONTH'] = df['ARRIVAL_TIME'].dt.month\n",
    "df['AT_HOUR'] = df['ARRIVAL_TIME'].dt.hour"
   ]
  },
  {
   "cell_type": "code",
   "execution_count": 7,
   "metadata": {},
   "outputs": [
    {
     "data": {
      "text/html": [
       "<div>\n",
       "<style scoped>\n",
       "    .dataframe tbody tr th:only-of-type {\n",
       "        vertical-align: middle;\n",
       "    }\n",
       "\n",
       "    .dataframe tbody tr th {\n",
       "        vertical-align: top;\n",
       "    }\n",
       "\n",
       "    .dataframe thead th {\n",
       "        text-align: right;\n",
       "    }\n",
       "</style>\n",
       "<table border=\"1\" class=\"dataframe\">\n",
       "  <thead>\n",
       "    <tr style=\"text-align: right;\">\n",
       "      <th></th>\n",
       "      <th>AIRLINE</th>\n",
       "      <th>ORIGIN_AIRPORT</th>\n",
       "      <th>DESTINATION_AIRPORT</th>\n",
       "      <th>DISTANCE</th>\n",
       "      <th>SD_DAY</th>\n",
       "      <th>SD_MONTH</th>\n",
       "      <th>SD_HOUR</th>\n",
       "      <th>DEPARTURE_DELAY</th>\n",
       "      <th>SA_DAY</th>\n",
       "      <th>SA_MONTH</th>\n",
       "      <th>SA_HOUR</th>\n",
       "      <th>ARRIVAL_DELAY</th>\n",
       "      <th>TAXI_OUT</th>\n",
       "      <th>WHEELS_OFF</th>\n",
       "      <th>AIR_TIME</th>\n",
       "      <th>WHEELS_ON</th>\n",
       "      <th>TAXI_IN</th>\n",
       "      <th>ELAPSED_TIME</th>\n",
       "      <th>SCHEDULED_TIME</th>\n",
       "      <th>TOTAL_DELAY</th>\n",
       "      <th>TOTAL_DELAY_MIN</th>\n",
       "      <th>DELAY</th>\n",
       "    </tr>\n",
       "  </thead>\n",
       "  <tbody>\n",
       "    <tr>\n",
       "      <th>0</th>\n",
       "      <td>US</td>\n",
       "      <td>PHX</td>\n",
       "      <td>EWR</td>\n",
       "      <td>2133</td>\n",
       "      <td>23</td>\n",
       "      <td>1</td>\n",
       "      <td>9</td>\n",
       "      <td>-2</td>\n",
       "      <td>23</td>\n",
       "      <td>1</td>\n",
       "      <td>16</td>\n",
       "      <td>-1</td>\n",
       "      <td>16</td>\n",
       "      <td>959</td>\n",
       "      <td>255</td>\n",
       "      <td>1614</td>\n",
       "      <td>7</td>\n",
       "      <td>278</td>\n",
       "      <td>277</td>\n",
       "      <td>-1 days +23:59:00.000000000</td>\n",
       "      <td>-1</td>\n",
       "      <td>0</td>\n",
       "    </tr>\n",
       "    <tr>\n",
       "      <th>1</th>\n",
       "      <td>WN</td>\n",
       "      <td>PDX</td>\n",
       "      <td>SMF</td>\n",
       "      <td>479</td>\n",
       "      <td>20</td>\n",
       "      <td>9</td>\n",
       "      <td>13</td>\n",
       "      <td>-5</td>\n",
       "      <td>20</td>\n",
       "      <td>9</td>\n",
       "      <td>14</td>\n",
       "      <td>-4</td>\n",
       "      <td>11</td>\n",
       "      <td>1311</td>\n",
       "      <td>70</td>\n",
       "      <td>1421</td>\n",
       "      <td>5</td>\n",
       "      <td>86</td>\n",
       "      <td>85</td>\n",
       "      <td>-1 days +23:56:00.000000000</td>\n",
       "      <td>-4</td>\n",
       "      <td>0</td>\n",
       "    </tr>\n",
       "    <tr>\n",
       "      <th>2</th>\n",
       "      <td>AS</td>\n",
       "      <td>FLL</td>\n",
       "      <td>SEA</td>\n",
       "      <td>2717</td>\n",
       "      <td>3</td>\n",
       "      <td>7</td>\n",
       "      <td>18</td>\n",
       "      <td>-4</td>\n",
       "      <td>3</td>\n",
       "      <td>7</td>\n",
       "      <td>22</td>\n",
       "      <td>10</td>\n",
       "      <td>13</td>\n",
       "      <td>1854</td>\n",
       "      <td>360</td>\n",
       "      <td>2154</td>\n",
       "      <td>19</td>\n",
       "      <td>392</td>\n",
       "      <td>378</td>\n",
       "      <td>0 days 00:10:00.000000000</td>\n",
       "      <td>10</td>\n",
       "      <td>1</td>\n",
       "    </tr>\n",
       "    <tr>\n",
       "      <th>3</th>\n",
       "      <td>DL</td>\n",
       "      <td>MCO</td>\n",
       "      <td>ATL</td>\n",
       "      <td>404</td>\n",
       "      <td>21</td>\n",
       "      <td>8</td>\n",
       "      <td>14</td>\n",
       "      <td>-1</td>\n",
       "      <td>21</td>\n",
       "      <td>8</td>\n",
       "      <td>16</td>\n",
       "      <td>-23</td>\n",
       "      <td>13</td>\n",
       "      <td>1442</td>\n",
       "      <td>65</td>\n",
       "      <td>1547</td>\n",
       "      <td>5</td>\n",
       "      <td>83</td>\n",
       "      <td>105</td>\n",
       "      <td>-1 days +23:37:00.000000000</td>\n",
       "      <td>-23</td>\n",
       "      <td>0</td>\n",
       "    </tr>\n",
       "    <tr>\n",
       "      <th>4</th>\n",
       "      <td>OO</td>\n",
       "      <td>SBA</td>\n",
       "      <td>PHX</td>\n",
       "      <td>455</td>\n",
       "      <td>11</td>\n",
       "      <td>1</td>\n",
       "      <td>19</td>\n",
       "      <td>41</td>\n",
       "      <td>11</td>\n",
       "      <td>1</td>\n",
       "      <td>21</td>\n",
       "      <td>33</td>\n",
       "      <td>8</td>\n",
       "      <td>2009</td>\n",
       "      <td>66</td>\n",
       "      <td>2215</td>\n",
       "      <td>5</td>\n",
       "      <td>79</td>\n",
       "      <td>87</td>\n",
       "      <td>0 days 00:33:00.000000000</td>\n",
       "      <td>33</td>\n",
       "      <td>1</td>\n",
       "    </tr>\n",
       "  </tbody>\n",
       "</table>\n",
       "</div>"
      ],
      "text/plain": [
       "  AIRLINE ORIGIN_AIRPORT DESTINATION_AIRPORT  DISTANCE  SD_DAY  SD_MONTH  \\\n",
       "0      US            PHX                 EWR      2133      23         1   \n",
       "1      WN            PDX                 SMF       479      20         9   \n",
       "2      AS            FLL                 SEA      2717       3         7   \n",
       "3      DL            MCO                 ATL       404      21         8   \n",
       "4      OO            SBA                 PHX       455      11         1   \n",
       "\n",
       "   SD_HOUR  DEPARTURE_DELAY  SA_DAY  SA_MONTH  SA_HOUR  ARRIVAL_DELAY  \\\n",
       "0        9               -2      23         1       16             -1   \n",
       "1       13               -5      20         9       14             -4   \n",
       "2       18               -4       3         7       22             10   \n",
       "3       14               -1      21         8       16            -23   \n",
       "4       19               41      11         1       21             33   \n",
       "\n",
       "   TAXI_OUT  WHEELS_OFF  AIR_TIME  WHEELS_ON  TAXI_IN  ELAPSED_TIME  \\\n",
       "0        16         959       255       1614        7           278   \n",
       "1        11        1311        70       1421        5            86   \n",
       "2        13        1854       360       2154       19           392   \n",
       "3        13        1442        65       1547        5            83   \n",
       "4         8        2009        66       2215        5            79   \n",
       "\n",
       "   SCHEDULED_TIME                  TOTAL_DELAY  TOTAL_DELAY_MIN  DELAY  \n",
       "0             277  -1 days +23:59:00.000000000               -1      0  \n",
       "1              85  -1 days +23:56:00.000000000               -4      0  \n",
       "2             378    0 days 00:10:00.000000000               10      1  \n",
       "3             105  -1 days +23:37:00.000000000              -23      0  \n",
       "4              87    0 days 00:33:00.000000000               33      1  "
      ]
     },
     "execution_count": 7,
     "metadata": {},
     "output_type": "execute_result"
    }
   ],
   "source": [
    "df = df[['AIRLINE', 'ORIGIN_AIRPORT', 'DESTINATION_AIRPORT',\n",
    "       'DISTANCE','SD_DAY', 'SD_MONTH','SD_HOUR','DEPARTURE_DELAY',\n",
    "       'SA_DAY','SA_MONTH','SA_HOUR', 'ARRIVAL_DELAY','TAXI_OUT', 'WHEELS_OFF',\n",
    "       'AIR_TIME', 'WHEELS_ON', 'TAXI_IN','ELAPSED_TIME', \n",
    "       'SCHEDULED_TIME', 'TOTAL_DELAY', 'TOTAL_DELAY_MIN',\n",
    "       'DELAY']]\n",
    "df.head()"
   ]
  },
  {
   "cell_type": "code",
   "execution_count": 8,
   "metadata": {},
   "outputs": [
    {
     "name": "stdout",
     "output_type": "stream",
     "text": [
      "<class 'pandas.core.frame.DataFrame'>\n",
      "RangeIndex: 236662 entries, 0 to 236661\n",
      "Data columns (total 22 columns):\n",
      "AIRLINE                236662 non-null object\n",
      "ORIGIN_AIRPORT         236662 non-null object\n",
      "DESTINATION_AIRPORT    236662 non-null object\n",
      "DISTANCE               236662 non-null int64\n",
      "SD_DAY                 236662 non-null int64\n",
      "SD_MONTH               236662 non-null int64\n",
      "SD_HOUR                236662 non-null int64\n",
      "DEPARTURE_DELAY        236662 non-null int64\n",
      "SA_DAY                 236662 non-null int64\n",
      "SA_MONTH               236662 non-null int64\n",
      "SA_HOUR                236662 non-null int64\n",
      "ARRIVAL_DELAY          236662 non-null int64\n",
      "TAXI_OUT               236662 non-null int64\n",
      "WHEELS_OFF             236662 non-null int64\n",
      "AIR_TIME               236662 non-null int64\n",
      "WHEELS_ON              236662 non-null int64\n",
      "TAXI_IN                236662 non-null int64\n",
      "ELAPSED_TIME           236662 non-null int64\n",
      "SCHEDULED_TIME         236662 non-null int64\n",
      "TOTAL_DELAY            236662 non-null object\n",
      "TOTAL_DELAY_MIN        236662 non-null int64\n",
      "DELAY                  236662 non-null int64\n",
      "dtypes: int64(18), object(4)\n",
      "memory usage: 39.7+ MB\n"
     ]
    }
   ],
   "source": [
    "df.info()"
   ]
  },
  {
   "cell_type": "code",
   "execution_count": 9,
   "metadata": {},
   "outputs": [
    {
     "data": {
      "text/plain": [
       "<matplotlib.axes._subplots.AxesSubplot at 0x214aaa0ce10>"
      ]
     },
     "execution_count": 9,
     "metadata": {},
     "output_type": "execute_result"
    },
    {
     "data": {
      "image/png": "[encoded data removed]",
      "text/plain": [
       "<Figure size 432x288 with 1 Axes>"
      ]
     },
     "metadata": {
      "needs_background": "light"
     },
     "output_type": "display_data"
    }
   ],
   "source": [
    "sns.countplot(x=df['DELAY'])"
   ]
  },
  {
   "cell_type": "markdown",
   "metadata": {},
   "source": [
    "# Label Encoder bagi feature \"AIRPORT\" dan juga \"AIRLINES\" untuk nantinya dapat digunakan untuk model prediksi kita."
   ]
  },
  {
   "cell_type": "code",
   "execution_count": 10,
   "metadata": {
    "scrolled": true
   },
   "outputs": [
    {
     "data": {
      "text/plain": [
       "array([534, 531, 409, 488, 566, 512, 429, 572, 367, 381, 427, 598, 401,\n",
       "       346, 523, 581, 497, 315, 461, 564, 516, 477, 471, 490, 391, 530,\n",
       "       552, 380, 469, 563,  78, 361,  21, 349, 399,  79, 416, 578, 589,\n",
       "       446, 137, 459, 438,  72, 283, 376, 573, 297, 247, 317, 373, 355,\n",
       "       208, 533, 334, 295, 465, 511, 500, 357, 464, 218, 515, 447, 362,\n",
       "       466, 333, 498,  36, 499, 519, 614, 520, 509, 397, 492, 326, 345,\n",
       "       548, 388,  47, 601, 359, 356,  60, 460, 379, 567, 179, 262, 368,\n",
       "       574, 485, 508, 584, 582, 482, 363, 332, 452, 561, 405, 344, 556,\n",
       "        19, 255, 354, 487,  16, 187, 395,  46, 425, 313,  75, 312, 311,\n",
       "       413, 611, 457,  80, 342, 202, 517, 189,  86, 451, 347, 170, 387,\n",
       "       199, 554, 331, 436, 205, 538, 448, 164, 270, 565, 222,  68, 479,\n",
       "       279, 610, 444, 518, 503, 431, 348, 426, 576, 522, 474, 411, 246,\n",
       "       577, 158, 266, 547, 318, 424, 377, 182, 603, 316, 489, 478, 542,\n",
       "       166, 224, 440, 198, 472, 580, 493, 480, 260, 419, 450,  98, 263,\n",
       "       393, 470, 234, 374, 207, 458, 437,  77, 307, 339, 545, 136, 104,\n",
       "       553,  48, 398, 408, 160, 292, 600, 607, 590, 536, 404, 321, 254,\n",
       "        61, 502, 439, 383, 402, 245, 106, 203, 420, 327, 422, 364, 375,\n",
       "       585, 595, 217, 369, 535, 475, 540, 178, 443, 302, 551, 294, 506,\n",
       "       586, 181, 116, 149, 370, 365, 101, 372, 442,   2,  76, 430, 423,\n",
       "       296, 243, 549, 309, 303,  34,  99, 602, 214, 407, 107, 481, 557,\n",
       "       324, 306, 167, 406, 288, 177, 476, 562, 153, 215, 505, 543, 285,\n",
       "       174, 571,  35, 524, 323, 456, 343, 196, 558,  62,  59, 176, 350,\n",
       "       410, 592, 154, 341, 521, 191, 264, 596, 421, 299, 597, 378, 569,\n",
       "       454, 132, 613, 435, 559, 394, 284, 100, 587, 483, 494, 173,  88,\n",
       "       400, 385, 390, 108,  44, 353, 389, 276, 169, 537, 510, 150, 340,\n",
       "       130,  73, 185, 236, 486, 133, 188,  70, 532, 583, 396, 142, 253,\n",
       "       314,  15, 473, 467, 223, 414, 194, 570, 310, 230, 441,   0, 226,\n",
       "       604, 238, 204, 193, 527, 277, 496, 568, 322, 328, 560, 102, 616,\n",
       "        57, 337, 186, 180, 229, 455, 392, 371, 593,   6,  49, 579, 159,\n",
       "       403, 123, 495, 544,   7, 248, 468, 305,  31, 612, 298, 434, 366,\n",
       "       412, 382, 418, 301, 491, 606, 287, 320, 432, 319, 209, 463, 168,\n",
       "       351,  84, 258,  37, 550,  89, 275, 588, 513, 360, 599, 282,  29,\n",
       "        25,  54, 507, 257, 605, 268, 143, 115, 135,  13, 591, 110,  74,\n",
       "       575, 462,  93, 546, 615, 124, 415, 271, 228,  85, 146, 501, 525,\n",
       "       126,  56, 148,  83,  95, 240, 139,  91, 256,  22,  51, 529, 216,\n",
       "       386, 528, 281, 555, 113, 335, 122, 514, 157, 138, 121,  96, 594,\n",
       "       269,  41,   8, 608, 147,  66, 200, 171, 117, 304,  30, 453, 125,\n",
       "       145, 338, 119, 329, 197, 249, 183, 609, 417, 155,   1,  26, 134,\n",
       "       239, 330,  63,  33,  94,  69,  92, 286,  38, 484, 225,  39, 195,\n",
       "       210, 165,  50, 144, 219, 445, 384, 325, 539, 118, 358, 233, 433,\n",
       "       192, 103, 280,  45, 261, 251, 259, 242, 114, 293, 131, 241, 267,\n",
       "       449, 308, 336, 163, 105, 278, 156, 128,  12, 290, 184, 504, 272,\n",
       "       526, 541, 175, 129, 300, 211,  67, 151,  82,  97,  71,  24, 161,\n",
       "        58, 289,  40,  11, 212, 201, 231, 172, 152, 291, 140, 232,  81,\n",
       "        18, 244, 162,  20,  55,  28, 274, 352,  27,  90, 250, 109,   4,\n",
       "       235,  23, 112,  52,  17,  32, 428,  10, 265, 227, 190, 273,  43,\n",
       "       213, 237, 206,  42, 127,   3, 120, 111,  53, 220,  64, 221,   9,\n",
       "       252,  14,   5,  87,  65, 141], dtype=int64)"
      ]
     },
     "execution_count": 10,
     "metadata": {},
     "output_type": "execute_result"
    }
   ],
   "source": [
    "from sklearn import preprocessing\n",
    "\n",
    "label_encoder = preprocessing.LabelEncoder()\n",
    "\n",
    "df[['ORIGIN_AIRPORT']] = label_encoder.fit_transform(df[['ORIGIN_AIRPORT']])\n",
    "\n",
    "df['ORIGIN_AIRPORT'].unique()"
   ]
  },
  {
   "cell_type": "code",
   "execution_count": 11,
   "metadata": {
    "scrolled": true
   },
   "outputs": [
    {
     "data": {
      "text/plain": [
       "array([400, 581, 571, 314, 533, 497, 580, 486, 380, 345, 343, 468, 376,\n",
       "       572, 378, 352, 529, 354, 331, 408, 443, 460, 379, 583, 577, 562,\n",
       "       296,  18, 537, 327, 532, 216, 487, 491, 143, 387, 449, 458, 372,\n",
       "        76, 445, 489, 597, 155, 470, 563,  77, 519, 534, 437, 404, 333,\n",
       "       424, 325, 320, 494, 496, 479, 274, 561, 511, 553, 522, 394, 435,\n",
       "       514, 316, 264, 360, 476, 375, 611, 498, 510, 358, 262,  36, 311,\n",
       "        78, 440, 517, 421, 521, 202, 104, 507, 396, 555, 454, 332, 530,\n",
       "       344, 373,  46,  10, 588, 361, 601, 438, 119, 249, 275, 172, 564,\n",
       "        20, 560, 295, 551, 338,  96, 502, 606, 516, 205, 247, 330, 442,\n",
       "       552, 194, 591, 475, 161, 153, 451, 313, 243, 478, 425, 171, 459,\n",
       "       557, 492, 508, 403, 261,  58, 579, 146, 336,  34, 294, 518, 121,\n",
       "       353, 128, 298, 245, 415, 574, 386, 241, 464, 348, 481, 544, 204,\n",
       "       183, 366, 469, 252, 610, 385, 308, 495, 409, 406,   2, 573, 482,\n",
       "       546, 134, 600, 195, 368, 319, 488, 426,  84, 174, 556, 277, 419,\n",
       "       268,  64, 359, 613, 570, 484, 418, 594, 215, 213, 456, 370, 457,\n",
       "        43, 548,  74, 220, 504, 575, 291, 523, 341, 595,  17, 182, 474,\n",
       "       539, 541, 434, 590, 347,  60, 436, 401, 390, 593, 105, 112,  25,\n",
       "       500, 493, 393, 289, 280, 462,  24, 566, 382, 509, 411, 615, 307,\n",
       "       350,  59, 395, 315, 586, 317, 463, 362, 281, 599,  73, 306, 201,\n",
       "       312, 501, 323, 145, 310, 188, 114, 212,  35, 417, 129, 592, 446,\n",
       "       199, 236, 113, 111, 602, 447, 412, 340, 410, 377, 444, 439, 413,\n",
       "       151, 346,  47, 369, 604, 299, 244, 405, 477, 524, 423, 420, 578,\n",
       "       349, 505, 485, 391, 326, 576, 565, 253, 609, 589, 305,  11, 240,\n",
       "       164, 260, 127, 399, 179, 339, 531, 397, 389, 596,  99, 106,  15,\n",
       "       407, 547, 584, 422, 506, 374, 139, 239, 120, 233, 357,   8,  12,\n",
       "       414, 286, 140, 300, 392, 176, 569, 192, 568, 321, 142, 251, 466,\n",
       "       605, 402, 246, 206,  83, 490, 342, 322, 150, 234,  29, 567, 324,\n",
       "       302, 200, 471, 355, 473,  48, 228, 483, 520, 135, 554, 318, 337,\n",
       "       429, 512, 559, 218,  70, 133, 430,  55, 381, 232, 173, 329, 163,\n",
       "       453,  56, 301, 515, 428, 465, 169, 558, 154, 585, 258, 598, 535,\n",
       "        61, 542, 603, 398, 416, 371, 189, 284, 526, 225, 388, 527, 614,\n",
       "       525,  44, 162, 157, 238, 334, 432,  93, 226, 267, 550, 131, 538,\n",
       "        45, 256, 197,  53,  33, 178, 187, 141,  30, 181, 254, 293, 367,\n",
       "       177, 543, 100,  51, 549, 288,  26, 304, 186, 356, 159, 227, 144,\n",
       "        16, 328, 363, 130, 608, 237, 115, 287, 116, 285,  92, 108, 170,\n",
       "       180, 480,  98, 191,  14, 103, 461, 384,  89, 335, 365,  90, 156,\n",
       "       433, 118,  41, 158,  87, 612,  68, 160,  31, 528, 132, 230,   7,\n",
       "       309,  82, 222, 450, 282, 455, 248,  19, 513, 297, 467, 269, 499,\n",
       "       259,   1,  67,  22, 582,  62, 265, 303, 231, 224,  71, 383, 431,\n",
       "       117, 136, 364,  72, 167, 229, 472, 152,  91,  37, 273, 149, 137,\n",
       "        49,  81,  94,  69, 193, 123, 166, 536, 198,  42,   9, 214, 452,\n",
       "       278, 270,  57, 257, 219, 107, 208, 279,  66,  79, 292, 165, 266,\n",
       "        40, 207, 235, 255,  50, 242, 203, 545, 540, 210,  86,  85, 221,\n",
       "       109,   0,  97,   4,  80, 122,  54, 184,  39,  65, 102, 607, 126,\n",
       "        21,   6,   3, 503,  28, 441, 351, 148, 217, 110, 138,  32,  75,\n",
       "       263,  38, 196, 283, 101,  13, 190, 427,  95, 168,  23, 587,  27,\n",
       "       185, 448, 271, 147, 272, 175, 290, 125,  88,  63,  52, 250, 223,\n",
       "       124, 209, 276,   5, 211], dtype=int64)"
      ]
     },
     "execution_count": 11,
     "metadata": {},
     "output_type": "execute_result"
    }
   ],
   "source": [
    "from sklearn import preprocessing\n",
    "\n",
    "label_encoder = preprocessing.LabelEncoder()\n",
    "\n",
    "df[['DESTINATION_AIRPORT']] = label_encoder.fit_transform(df[['DESTINATION_AIRPORT']])\n",
    "\n",
    "df['DESTINATION_AIRPORT'].unique()"
   ]
  },
  {
   "cell_type": "code",
   "execution_count": 12,
   "metadata": {},
   "outputs": [
    {
     "data": {
      "text/plain": [
       "array([11, 13,  1,  3,  9,  0,  7, 10,  4,  2, 12,  6,  8,  5],\n",
       "      dtype=int64)"
      ]
     },
     "execution_count": 12,
     "metadata": {},
     "output_type": "execute_result"
    }
   ],
   "source": [
    "from sklearn import preprocessing\n",
    "\n",
    "label_encoder = preprocessing.LabelEncoder()\n",
    "\n",
    "df['AIRLINE'] = label_encoder.fit_transform(df['AIRLINE'])\n",
    "\n",
    "df['AIRLINE'].unique()"
   ]
  },
  {
   "cell_type": "markdown",
   "metadata": {},
   "source": [
    "# Random Forest\n",
    "\n",
    "## 2 model Random Forest akan dibuat : \n",
    "### 1. Yang pertama untuk menentukan feature importance kepada target yaitu DELAY. \n",
    "### 2. Dan yang ke2 untuk kita coba dalam situasi nyata, dimana faktor atau feature yang diketahui akan digunakan ke dalam training dan test machine learning nantinya."
   ]
  },
  {
   "cell_type": "code",
   "execution_count": 13,
   "metadata": {},
   "outputs": [],
   "source": [
    "from sklearn.model_selection import train_test_split"
   ]
  },
  {
   "cell_type": "code",
   "execution_count": 14,
   "metadata": {},
   "outputs": [],
   "source": [
    "X = df.drop(['DELAY','TOTAL_DELAY','TOTAL_DELAY_MIN'],axis=1)\n",
    "y  = df['DELAY']"
   ]
  },
  {
   "cell_type": "code",
   "execution_count": 15,
   "metadata": {},
   "outputs": [],
   "source": [
    "X_train, X_test, y_train, y_test = train_test_split(X, y, test_size=0.05,random_state=101)"
   ]
  },
  {
   "cell_type": "code",
   "execution_count": 16,
   "metadata": {},
   "outputs": [],
   "source": [
    "from sklearn.ensemble import RandomForestClassifier"
   ]
  },
  {
   "cell_type": "code",
   "execution_count": 17,
   "metadata": {},
   "outputs": [
    {
     "data": {
      "text/plain": [
       "RandomForestClassifier(bootstrap=True, class_weight={0: 1, 1: 5},\n",
       "                       criterion='gini', max_depth=10, max_features='auto',\n",
       "                       max_leaf_nodes=None, min_impurity_decrease=0.0,\n",
       "                       min_impurity_split=None, min_samples_leaf=1,\n",
       "                       min_samples_split=2, min_weight_fraction_leaf=0.0,\n",
       "                       n_estimators=10, n_jobs=None, oob_score=False,\n",
       "                       random_state=None, verbose=0, warm_start=False)"
      ]
     },
     "execution_count": 17,
     "metadata": {},
     "output_type": "execute_result"
    }
   ],
   "source": [
    "from sklearn.model_selection import GridSearchCV\n",
    "\n",
    "parameters = {\n",
    "             'class_weight':[{0:1,1:5},{0:5,1:1},{0:1,1:2}],\n",
    "             'max_depth':[10,20,15]\n",
    "                }\n",
    "rfc = RandomForestClassifier()\n",
    "dt = GridSearchCV(rfc,parameters, scoring= 'recall',cv=5)\n",
    "dt.fit(X_train,y_train)\n",
    "dt.best_estimator_"
   ]
  },
  {
   "cell_type": "code",
   "execution_count": 18,
   "metadata": {},
   "outputs": [],
   "source": [
    "rfc_1 = RandomForestClassifier(n_estimators =100)"
   ]
  },
  {
   "cell_type": "code",
   "execution_count": 19,
   "metadata": {},
   "outputs": [
    {
     "data": {
      "text/plain": [
       "RandomForestClassifier(bootstrap=True, class_weight=None, criterion='gini',\n",
       "                       max_depth=None, max_features='auto', max_leaf_nodes=None,\n",
       "                       min_impurity_decrease=0.0, min_impurity_split=None,\n",
       "                       min_samples_leaf=1, min_samples_split=2,\n",
       "                       min_weight_fraction_leaf=0.0, n_estimators=100,\n",
       "                       n_jobs=None, oob_score=False, random_state=None,\n",
       "                       verbose=0, warm_start=False)"
      ]
     },
     "execution_count": 19,
     "metadata": {},
     "output_type": "execute_result"
    }
   ],
   "source": [
    "rfc_1.fit(X_train, y_train)"
   ]
  },
  {
   "cell_type": "markdown",
   "metadata": {},
   "source": [
    "## Evaluasi Model untuk Feature Importance"
   ]
  },
  {
   "cell_type": "code",
   "execution_count": 20,
   "metadata": {},
   "outputs": [],
   "source": [
    "from sklearn.metrics import classification_report,confusion_matrix,matthews_corrcoef, roc_auc_score, accuracy_score, roc_curve, auc,f1_score"
   ]
  },
  {
   "cell_type": "code",
   "execution_count": 21,
   "metadata": {},
   "outputs": [],
   "source": [
    "predict = rfc_1.predict(X_test)\n",
    "predictProb = rfc_1.predict_proba(X_test)"
   ]
  },
  {
   "cell_type": "code",
   "execution_count": 22,
   "metadata": {},
   "outputs": [],
   "source": [
    "predict_tr = rfc_1.predict(X_train)\n",
    "predictProb_tr = rfc_1.predict_proba(X_train)"
   ]
  },
  {
   "cell_type": "code",
   "execution_count": 23,
   "metadata": {},
   "outputs": [
    {
     "name": "stdout",
     "output_type": "stream",
     "text": [
      "              precision    recall  f1-score   support\n",
      "\n",
      "           0       1.00      1.00      1.00    149971\n",
      "           1       1.00      1.00      1.00     74857\n",
      "\n",
      "    accuracy                           1.00    224828\n",
      "   macro avg       1.00      1.00      1.00    224828\n",
      "weighted avg       1.00      1.00      1.00    224828\n",
      "\n"
     ]
    }
   ],
   "source": [
    "print(classification_report(y_train,predict_tr))"
   ]
  },
  {
   "cell_type": "code",
   "execution_count": 24,
   "metadata": {},
   "outputs": [
    {
     "name": "stdout",
     "output_type": "stream",
     "text": [
      "ROC AUC : 1.0\n",
      "Accuracy : 1.0\n",
      "Matthews Corr_coef : 1.0\n"
     ]
    }
   ],
   "source": [
    "print('ROC AUC :', roc_auc_score(y_train, predictProb_tr[:,1]))\n",
    "print('Accuracy :',accuracy_score(y_train, predict_tr))\n",
    "print('Matthews Corr_coef :',matthews_corrcoef(y_train, predict_tr))"
   ]
  },
  {
   "cell_type": "code",
   "execution_count": 25,
   "metadata": {},
   "outputs": [
    {
     "name": "stdout",
     "output_type": "stream",
     "text": [
      "              precision    recall  f1-score   support\n",
      "\n",
      "           0       0.68      0.95      0.80      7978\n",
      "           1       0.45      0.08      0.14      3856\n",
      "\n",
      "    accuracy                           0.67     11834\n",
      "   macro avg       0.57      0.52      0.47     11834\n",
      "weighted avg       0.61      0.67      0.58     11834\n",
      "\n"
     ]
    }
   ],
   "source": [
    "print(classification_report(y_test,predict))"
   ]
  },
  {
   "cell_type": "code",
   "execution_count": 26,
   "metadata": {},
   "outputs": [
    {
     "name": "stdout",
     "output_type": "stream",
     "text": [
      "ROC AUC : 0.5776328855337656\n",
      "Accuracy : 0.6688355585600811\n",
      "Matthews Corr_coef : 0.06761020323086\n"
     ]
    }
   ],
   "source": [
    "print('ROC AUC :', roc_auc_score(y_test, predictProb[:,1]))\n",
    "print('Accuracy :',accuracy_score(y_test, predict))\n",
    "print('Matthews Corr_coef :',matthews_corrcoef(y_test, predict))"
   ]
  },
  {
   "cell_type": "code",
   "execution_count": 27,
   "metadata": {
    "scrolled": true
   },
   "outputs": [
    {
     "data": {
      "text/plain": [
       "<matplotlib.axes._subplots.AxesSubplot at 0x214aaef5fd0>"
      ]
     },
     "execution_count": 27,
     "metadata": {},
     "output_type": "execute_result"
    },
    {
     "data": {
      "image/png": "[encoded data removed]",
      "text/plain": [
       "<Figure size 1440x1440 with 1 Axes>"
      ]
     },
     "metadata": {
      "needs_background": "light"
     },
     "output_type": "display_data"
    }
   ],
   "source": [
    "plt.figure(figsize =(20,20))\n",
    "coef1 = pd.Series(rfc_1.feature_importances_, X_train.columns).sort_values(ascending = True)\n",
    "coef1.plot(kind='barh', title='Feature Importances')"
   ]
  },
  {
   "cell_type": "markdown",
   "metadata": {},
   "source": [
    "# Berdasarkan Feature Importance\n",
    "\n",
    "## \"WHEELS_OFF\" & \"WHEELS_ON\" berada di posisi tertinggi, akan tetapi apabila kita menempatkan diri sebagai pelanggan maskapai, kita tidak akan tahu kapan terjadinya.\n",
    "\n",
    "### Pengguna akan kesulitan dan tidak tertarik untuk menggunakan model prediksi."
   ]
  },
  {
   "cell_type": "markdown",
   "metadata": {},
   "source": [
    "## Maka Feature yang akan dipakai:\n",
    "### 'AIRLINE' \n",
    "### 'ORIGIN_AIRPORT'\n",
    "### 'DESTINATION_AIRPORT'\n",
    "### 'DISTANCE'\n",
    "### 'SD_DAY'\n",
    "### 'SD_MONTH'\n",
    "### 'SD_HOUR'\n",
    "### 'SA_DAY'\n",
    "### 'SA_MONTH'\n",
    "### 'SA_HOUR'\n",
    "### 'AIR_TIME'\n",
    "### 'SCHEDULED_TIME'."
   ]
  },
  {
   "cell_type": "markdown",
   "metadata": {},
   "source": [
    "# Model testing untuk situasi real life bagi pengguna. "
   ]
  },
  {
   "cell_type": "code",
   "execution_count": 28,
   "metadata": {},
   "outputs": [],
   "source": [
    "from sklearn.model_selection import train_test_split"
   ]
  },
  {
   "cell_type": "code",
   "execution_count": 29,
   "metadata": {},
   "outputs": [],
   "source": [
    "X =df.drop(['DELAY','TOTAL_DELAY','TOTAL_DELAY_MIN',\n",
    "            'DEPARTURE_DELAY','ARRIVAL_DELAY',\n",
    "            'TAXI_OUT','WHEELS_OFF','WHEELS_ON','TAXI_IN',\n",
    "            'ELAPSED_TIME'\n",
    "           ],axis=1)\n",
    "y = df['DELAY']"
   ]
  },
  {
   "cell_type": "code",
   "execution_count": 30,
   "metadata": {},
   "outputs": [
    {
     "data": {
      "text/plain": [
       "Index(['AIRLINE', 'ORIGIN_AIRPORT', 'DESTINATION_AIRPORT', 'DISTANCE',\n",
       "       'SD_DAY', 'SD_MONTH', 'SD_HOUR', 'SA_DAY', 'SA_MONTH', 'SA_HOUR',\n",
       "       'AIR_TIME', 'SCHEDULED_TIME'],\n",
       "      dtype='object')"
      ]
     },
     "execution_count": 30,
     "metadata": {},
     "output_type": "execute_result"
    }
   ],
   "source": [
    "X.columns"
   ]
  },
  {
   "cell_type": "code",
   "execution_count": 31,
   "metadata": {},
   "outputs": [],
   "source": [
    "X_train, X_test, y_train, y_test = train_test_split(X, y, test_size=0.30,random_state=101)"
   ]
  },
  {
   "cell_type": "markdown",
   "metadata": {},
   "source": [
    "# RFC 2 Train "
   ]
  },
  {
   "cell_type": "code",
   "execution_count": 32,
   "metadata": {},
   "outputs": [],
   "source": [
    "rfc_2 = RandomForestClassifier(n_estimators= 100,max_features=12,max_depth = 15, class_weight={0:1,1:2})"
   ]
  },
  {
   "cell_type": "code",
   "execution_count": 33,
   "metadata": {},
   "outputs": [
    {
     "data": {
      "text/plain": [
       "RandomForestClassifier(bootstrap=True, class_weight={0: 1, 1: 2},\n",
       "                       criterion='gini', max_depth=15, max_features=12,\n",
       "                       max_leaf_nodes=None, min_impurity_decrease=0.0,\n",
       "                       min_impurity_split=None, min_samples_leaf=1,\n",
       "                       min_samples_split=2, min_weight_fraction_leaf=0.0,\n",
       "                       n_estimators=100, n_jobs=None, oob_score=False,\n",
       "                       random_state=None, verbose=0, warm_start=False)"
      ]
     },
     "execution_count": 33,
     "metadata": {},
     "output_type": "execute_result"
    }
   ],
   "source": [
    "rfc_2.fit(X_train, y_train)"
   ]
  },
  {
   "cell_type": "markdown",
   "metadata": {},
   "source": [
    "# Evaluasi RFC Model ke-2"
   ]
  },
  {
   "cell_type": "code",
   "execution_count": 34,
   "metadata": {},
   "outputs": [],
   "source": [
    "from sklearn.metrics import classification_report,confusion_matrix,matthews_corrcoef, roc_auc_score, accuracy_score, roc_curve, auc,f1_score"
   ]
  },
  {
   "cell_type": "code",
   "execution_count": 35,
   "metadata": {},
   "outputs": [],
   "source": [
    "predict_tr = rfc_2.predict(X_train)\n",
    "predictProb_tr = rfc_2.predict_proba(X_train)"
   ]
  },
  {
   "cell_type": "code",
   "execution_count": 36,
   "metadata": {},
   "outputs": [],
   "source": [
    "predict = rfc_2.predict(X_test)\n",
    "predictProb = rfc_2.predict_proba(X_test)"
   ]
  },
  {
   "cell_type": "code",
   "execution_count": 37,
   "metadata": {},
   "outputs": [
    {
     "name": "stdout",
     "output_type": "stream",
     "text": [
      "              precision    recall  f1-score   support\n",
      "\n",
      "           0       0.88      0.80      0.84    110623\n",
      "           1       0.66      0.78      0.71     55040\n",
      "\n",
      "    accuracy                           0.79    165663\n",
      "   macro avg       0.77      0.79      0.77    165663\n",
      "weighted avg       0.80      0.79      0.79    165663\n",
      "\n"
     ]
    }
   ],
   "source": [
    "print(classification_report(y_train,predict_tr))"
   ]
  },
  {
   "cell_type": "code",
   "execution_count": 38,
   "metadata": {},
   "outputs": [
    {
     "name": "stdout",
     "output_type": "stream",
     "text": [
      "ROC AUC : 0.8772872984472824\n",
      "Accuracy : 0.7905386235912666\n",
      "Matthews Corr_coef : 0.5534999404612178\n"
     ]
    }
   ],
   "source": [
    "print('ROC AUC :', roc_auc_score(y_train, predictProb_tr[:,1]))\n",
    "print('Accuracy :',accuracy_score(y_train, predict_tr))\n",
    "print('Matthews Corr_coef :',matthews_corrcoef(y_train, predict_tr))"
   ]
  },
  {
   "cell_type": "markdown",
   "metadata": {},
   "source": [
    "# RFC model ke 2 TESTING"
   ]
  },
  {
   "cell_type": "code",
   "execution_count": 39,
   "metadata": {},
   "outputs": [
    {
     "name": "stdout",
     "output_type": "stream",
     "text": [
      "              precision    recall  f1-score   support\n",
      "\n",
      "           0       0.71      0.70      0.71     47326\n",
      "           1       0.42      0.44      0.43     23673\n",
      "\n",
      "    accuracy                           0.61     70999\n",
      "   macro avg       0.57      0.57      0.57     70999\n",
      "weighted avg       0.62      0.61      0.61     70999\n",
      "\n"
     ]
    }
   ],
   "source": [
    "print(classification_report(y_test,predict))"
   ]
  },
  {
   "cell_type": "code",
   "execution_count": 40,
   "metadata": {},
   "outputs": [
    {
     "name": "stdout",
     "output_type": "stream",
     "text": [
      "ROC AUC : 0.5929452705835886\n",
      "Accuracy : 0.6117269257313483\n",
      "Matthews Corr_coef : 0.13512211772345592\n"
     ]
    }
   ],
   "source": [
    "print('ROC AUC :', roc_auc_score(y_test, predictProb[:,1]))\n",
    "print('Accuracy :',accuracy_score(y_test, predict))\n",
    "print('Matthews Corr_coef :',matthews_corrcoef(y_test, predict))"
   ]
  },
  {
   "cell_type": "code",
   "execution_count": 41,
   "metadata": {},
   "outputs": [
    {
     "data": {
      "text/html": [
       "<div>\n",
       "<style scoped>\n",
       "    .dataframe tbody tr th:only-of-type {\n",
       "        vertical-align: middle;\n",
       "    }\n",
       "\n",
       "    .dataframe tbody tr th {\n",
       "        vertical-align: top;\n",
       "    }\n",
       "\n",
       "    .dataframe thead th {\n",
       "        text-align: right;\n",
       "    }\n",
       "</style>\n",
       "<table border=\"1\" class=\"dataframe\">\n",
       "  <thead>\n",
       "    <tr style=\"text-align: right;\">\n",
       "      <th></th>\n",
       "      <th>AIRLINE</th>\n",
       "      <th>ORIGIN_AIRPORT</th>\n",
       "      <th>DESTINATION_AIRPORT</th>\n",
       "      <th>DISTANCE</th>\n",
       "      <th>SD_DAY</th>\n",
       "      <th>SD_MONTH</th>\n",
       "      <th>SD_HOUR</th>\n",
       "      <th>SA_DAY</th>\n",
       "      <th>SA_MONTH</th>\n",
       "      <th>SA_HOUR</th>\n",
       "      <th>AIR_TIME</th>\n",
       "      <th>SCHEDULED_TIME</th>\n",
       "    </tr>\n",
       "  </thead>\n",
       "  <tbody>\n",
       "    <tr>\n",
       "      <th>0</th>\n",
       "      <td>11</td>\n",
       "      <td>534</td>\n",
       "      <td>400</td>\n",
       "      <td>2133</td>\n",
       "      <td>23</td>\n",
       "      <td>1</td>\n",
       "      <td>9</td>\n",
       "      <td>23</td>\n",
       "      <td>1</td>\n",
       "      <td>16</td>\n",
       "      <td>255</td>\n",
       "      <td>277</td>\n",
       "    </tr>\n",
       "    <tr>\n",
       "      <th>1</th>\n",
       "      <td>13</td>\n",
       "      <td>531</td>\n",
       "      <td>581</td>\n",
       "      <td>479</td>\n",
       "      <td>20</td>\n",
       "      <td>9</td>\n",
       "      <td>13</td>\n",
       "      <td>20</td>\n",
       "      <td>9</td>\n",
       "      <td>14</td>\n",
       "      <td>70</td>\n",
       "      <td>85</td>\n",
       "    </tr>\n",
       "    <tr>\n",
       "      <th>2</th>\n",
       "      <td>1</td>\n",
       "      <td>409</td>\n",
       "      <td>571</td>\n",
       "      <td>2717</td>\n",
       "      <td>3</td>\n",
       "      <td>7</td>\n",
       "      <td>18</td>\n",
       "      <td>3</td>\n",
       "      <td>7</td>\n",
       "      <td>22</td>\n",
       "      <td>360</td>\n",
       "      <td>378</td>\n",
       "    </tr>\n",
       "    <tr>\n",
       "      <th>3</th>\n",
       "      <td>3</td>\n",
       "      <td>488</td>\n",
       "      <td>314</td>\n",
       "      <td>404</td>\n",
       "      <td>21</td>\n",
       "      <td>8</td>\n",
       "      <td>14</td>\n",
       "      <td>21</td>\n",
       "      <td>8</td>\n",
       "      <td>16</td>\n",
       "      <td>65</td>\n",
       "      <td>105</td>\n",
       "    </tr>\n",
       "    <tr>\n",
       "      <th>4</th>\n",
       "      <td>9</td>\n",
       "      <td>566</td>\n",
       "      <td>533</td>\n",
       "      <td>455</td>\n",
       "      <td>11</td>\n",
       "      <td>1</td>\n",
       "      <td>19</td>\n",
       "      <td>11</td>\n",
       "      <td>1</td>\n",
       "      <td>21</td>\n",
       "      <td>66</td>\n",
       "      <td>87</td>\n",
       "    </tr>\n",
       "  </tbody>\n",
       "</table>\n",
       "</div>"
      ],
      "text/plain": [
       "   AIRLINE  ORIGIN_AIRPORT  DESTINATION_AIRPORT  DISTANCE  SD_DAY  SD_MONTH  \\\n",
       "0       11             534                  400      2133      23         1   \n",
       "1       13             531                  581       479      20         9   \n",
       "2        1             409                  571      2717       3         7   \n",
       "3        3             488                  314       404      21         8   \n",
       "4        9             566                  533       455      11         1   \n",
       "\n",
       "   SD_HOUR  SA_DAY  SA_MONTH  SA_HOUR  AIR_TIME  SCHEDULED_TIME  \n",
       "0        9      23         1       16       255             277  \n",
       "1       13      20         9       14        70              85  \n",
       "2       18       3         7       22       360             378  \n",
       "3       14      21         8       16        65             105  \n",
       "4       19      11         1       21        66              87  "
      ]
     },
     "execution_count": 41,
     "metadata": {},
     "output_type": "execute_result"
    }
   ],
   "source": [
    "X.head()"
   ]
  },
  {
   "cell_type": "markdown",
   "metadata": {},
   "source": [
    "### Precision adalah tingkat ketepatan antara informasi yang diminta oleh pengguna dengan jawaban yang diberikan oleh sistem. \n",
    "### Sedangkan recall adalah tingkat keberhasilan sistem dalam menemukan kembali sebuah informasi.\n",
    "### ROC (Receiver Operating Characteristics) adalah alat ukur performance untuk classification, digunakan dalam menentukan threshold dari suatu model. "
   ]
  },
  {
   "cell_type": "markdown",
   "metadata": {},
   "source": [
    "# Feature Importance\n",
    "### melihat feature -feature paling berpengaruh dalam model"
   ]
  },
  {
   "cell_type": "code",
   "execution_count": 42,
   "metadata": {},
   "outputs": [
    {
     "data": {
      "text/plain": [
       "<matplotlib.axes._subplots.AxesSubplot at 0x214acd25ef0>"
      ]
     },
     "execution_count": 42,
     "metadata": {},
     "output_type": "execute_result"
    },
    {
     "data": {
      "image/png": "[encoded data removed]",
      "text/plain": [
       "<Figure size 1440x1440 with 1 Axes>"
      ]
     },
     "metadata": {
      "needs_background": "light"
     },
     "output_type": "display_data"
    }
   ],
   "source": [
    "plt.figure(figsize =(20,20))\n",
    "coef1 = pd.Series(rfc_2.feature_importances_, X_train.columns).sort_values(ascending = True)\n",
    "coef1.plot(kind='barh', title='Feature Importances')"
   ]
  },
  {
   "cell_type": "markdown",
   "metadata": {},
   "source": [
    "# Using K-Folds Cross-Validation"
   ]
  },
  {
   "cell_type": "code",
   "execution_count": 43,
   "metadata": {},
   "outputs": [],
   "source": [
    "data =df.drop(['DELAY','TOTAL_DELAY','TOTAL_DELAY_MIN',\n",
    "            'DEPARTURE_DELAY','ARRIVAL_DELAY',\n",
    "            'TAXI_OUT','WHEELS_OFF','WHEELS_ON','TAXI_IN',\n",
    "            'ELAPSED_TIME'\n",
    "           ],axis=1)\n",
    "target = df['DELAY']"
   ]
  },
  {
   "cell_type": "code",
   "execution_count": 44,
   "metadata": {},
   "outputs": [
    {
     "data": {
      "text/plain": [
       "(236662, 12)"
      ]
     },
     "execution_count": 44,
     "metadata": {},
     "output_type": "execute_result"
    }
   ],
   "source": [
    "data.shape"
   ]
  },
  {
   "cell_type": "code",
   "execution_count": 45,
   "metadata": {},
   "outputs": [
    {
     "name": "stdout",
     "output_type": "stream",
     "text": [
      "<class 'pandas.core.frame.DataFrame'>\n",
      "RangeIndex: 236662 entries, 0 to 236661\n",
      "Data columns (total 12 columns):\n",
      "AIRLINE                236662 non-null int32\n",
      "ORIGIN_AIRPORT         236662 non-null int32\n",
      "DESTINATION_AIRPORT    236662 non-null int32\n",
      "DISTANCE               236662 non-null int64\n",
      "SD_DAY                 236662 non-null int64\n",
      "SD_MONTH               236662 non-null int64\n",
      "SD_HOUR                236662 non-null int64\n",
      "SA_DAY                 236662 non-null int64\n",
      "SA_MONTH               236662 non-null int64\n",
      "SA_HOUR                236662 non-null int64\n",
      "AIR_TIME               236662 non-null int64\n",
      "SCHEDULED_TIME         236662 non-null int64\n",
      "dtypes: int32(3), int64(9)\n",
      "memory usage: 19.0 MB\n"
     ]
    }
   ],
   "source": [
    "data.info()"
   ]
  },
  {
   "cell_type": "code",
   "execution_count": 46,
   "metadata": {},
   "outputs": [],
   "source": [
    "from sklearn.model_selection import KFold\n",
    "\n",
    "K = 5\n",
    "kf = KFold(n_splits=K, shuffle = True, random_state=42)"
   ]
  },
  {
   "cell_type": "code",
   "execution_count": 47,
   "metadata": {},
   "outputs": [],
   "source": [
    "def calc_error(X, y, model):\n",
    "    predictions = model.predict(X)\n",
    "    predicProba = model.predict_proba(X)\n",
    "    matt = matthews_corrcoef(y, predictions)\n",
    "    f1 = f1_score(y, predictions, average='macro')\n",
    "    report = classification_report(y, predictions)\n",
    "    roc_auc = roc_auc_score(y, predicProba[:,1])\n",
    "    accuracy = accuracy_score(y,predictions)\n",
    "    con = pd.DataFrame(data=confusion_matrix(y,predictions),columns=['P No','P Yes'],index=['A No','A Yes'])\n",
    "        \n",
    "    return {\n",
    "            'report':report,\n",
    "            'matthew':matt,\n",
    "            'f1':f1,\n",
    "            'roc':roc_auc,\n",
    "            'accuracy':accuracy,\n",
    "            'confusion':con\n",
    "            }\n",
    "\n",
    "def calc_metrics(X_train,y_train,X_test,y_test, model):\n",
    "    model.fit(X_train,y_train)\n",
    "    train_error = calc_error(X_train,y_train, model)\n",
    "    validation_error = calc_error(X_test,y_test, model)\n",
    "    \n",
    "    return train_error, validation_error\n",
    "\n",
    "def value_in_kfold(data,scoring_type):\n",
    "    a = []\n",
    "    for i in range(K):\n",
    "        a.append(data[i][scoring_type])\n",
    "    return a"
   ]
  },
  {
   "cell_type": "code",
   "execution_count": 48,
   "metadata": {},
   "outputs": [
    {
     "name": "stdout",
     "output_type": "stream",
     "text": [
      "47333 236662\n",
      "47333 236662\n",
      "47332 236662\n",
      "47332 236662\n",
      "47332 236662\n"
     ]
    }
   ],
   "source": [
    "train_errors = []\n",
    "validation_errors = []\n",
    "\n",
    "for train_index, val_index in kf.split(data, target):\n",
    "    \n",
    "    # Split data\n",
    "    X_train, X_val = data.iloc[train_index], data.iloc[val_index]\n",
    "    y_train, y_val = target.iloc[train_index], target.iloc[val_index]\n",
    "    \n",
    "    print(len(X_val),(len(X_train) + len(X_val)))\n",
    "    \n",
    "    # Instantite model\n",
    "    model = rfc_2\n",
    "    \n",
    "    # Calculate Errors\n",
    "    train_error, val_error = calc_metrics(X_train,y_train,X_val, y_val,model)\n",
    "    \n",
    "    train_errors.append(train_error)\n",
    "    validation_errors.append(val_error)"
   ]
  },
  {
   "cell_type": "code",
   "execution_count": 49,
   "metadata": {},
   "outputs": [],
   "source": [
    "acc = value_in_kfold(train_errors,'accuracy')\n",
    "matt = value_in_kfold(train_errors,'matthew')\n",
    "f1 = value_in_kfold(train_errors,'f1')\n",
    "roc = value_in_kfold(train_errors,'roc')\n",
    "con = value_in_kfold(train_errors,'confusion')\n",
    "report = value_in_kfold(train_errors,'report')"
   ]
  },
  {
   "cell_type": "code",
   "execution_count": 50,
   "metadata": {},
   "outputs": [],
   "source": [
    "acc_v = value_in_kfold(validation_errors,'accuracy')\n",
    "matt_v = value_in_kfold(validation_errors,'matthew')\n",
    "f1_v = value_in_kfold(validation_errors,'f1')\n",
    "roc_v = value_in_kfold(validation_errors,'roc')\n",
    "con_v = value_in_kfold(validation_errors,'confusion')\n",
    "report_v = value_in_kfold(validation_errors,'report')"
   ]
  },
  {
   "cell_type": "code",
   "execution_count": 51,
   "metadata": {},
   "outputs": [],
   "source": [
    "data_set = {'Train Acc':acc,\n",
    "            'Test Acc':acc_v,\n",
    "            'Train ROC AUC':roc,\n",
    "            'Test ROC AUC':roc_v,\n",
    "            'Train F1 Score':f1,\n",
    "            'Test F1 Score':f1_v,\n",
    "            'Train Matthews Corr Coef':matt,\n",
    "            'Test Matthews Corr Coef':matt_v}"
   ]
  },
  {
   "cell_type": "code",
   "execution_count": 52,
   "metadata": {},
   "outputs": [
    {
     "data": {
      "text/html": [
       "<div>\n",
       "<style scoped>\n",
       "    .dataframe tbody tr th:only-of-type {\n",
       "        vertical-align: middle;\n",
       "    }\n",
       "\n",
       "    .dataframe tbody tr th {\n",
       "        vertical-align: top;\n",
       "    }\n",
       "\n",
       "    .dataframe thead th {\n",
       "        text-align: right;\n",
       "    }\n",
       "</style>\n",
       "<table border=\"1\" class=\"dataframe\">\n",
       "  <thead>\n",
       "    <tr style=\"text-align: right;\">\n",
       "      <th></th>\n",
       "      <th>Train Acc</th>\n",
       "      <th>Test Acc</th>\n",
       "      <th>Train ROC AUC</th>\n",
       "      <th>Test ROC AUC</th>\n",
       "      <th>Train F1 Score</th>\n",
       "      <th>Test F1 Score</th>\n",
       "      <th>Train Matthews Corr Coef</th>\n",
       "      <th>Test Matthews Corr Coef</th>\n",
       "    </tr>\n",
       "  </thead>\n",
       "  <tbody>\n",
       "    <tr>\n",
       "      <th>0</th>\n",
       "      <td>0.777292</td>\n",
       "      <td>0.604420</td>\n",
       "      <td>0.865728</td>\n",
       "      <td>0.591901</td>\n",
       "      <td>0.759689</td>\n",
       "      <td>0.562478</td>\n",
       "      <td>0.526673</td>\n",
       "      <td>0.125610</td>\n",
       "    </tr>\n",
       "    <tr>\n",
       "      <th>1</th>\n",
       "      <td>0.773336</td>\n",
       "      <td>0.605497</td>\n",
       "      <td>0.864443</td>\n",
       "      <td>0.594875</td>\n",
       "      <td>0.756171</td>\n",
       "      <td>0.565359</td>\n",
       "      <td>0.520505</td>\n",
       "      <td>0.132135</td>\n",
       "    </tr>\n",
       "    <tr>\n",
       "      <th>2</th>\n",
       "      <td>0.782391</td>\n",
       "      <td>0.608193</td>\n",
       "      <td>0.869592</td>\n",
       "      <td>0.597650</td>\n",
       "      <td>0.764826</td>\n",
       "      <td>0.565918</td>\n",
       "      <td>0.536029</td>\n",
       "      <td>0.132818</td>\n",
       "    </tr>\n",
       "    <tr>\n",
       "      <th>3</th>\n",
       "      <td>0.772857</td>\n",
       "      <td>0.606080</td>\n",
       "      <td>0.861451</td>\n",
       "      <td>0.592421</td>\n",
       "      <td>0.754623</td>\n",
       "      <td>0.564640</td>\n",
       "      <td>0.516003</td>\n",
       "      <td>0.130077</td>\n",
       "    </tr>\n",
       "    <tr>\n",
       "      <th>4</th>\n",
       "      <td>0.780658</td>\n",
       "      <td>0.610665</td>\n",
       "      <td>0.867384</td>\n",
       "      <td>0.595880</td>\n",
       "      <td>0.762345</td>\n",
       "      <td>0.567468</td>\n",
       "      <td>0.530608</td>\n",
       "      <td>0.135242</td>\n",
       "    </tr>\n",
       "  </tbody>\n",
       "</table>\n",
       "</div>"
      ],
      "text/plain": [
       "   Train Acc  Test Acc  Train ROC AUC  Test ROC AUC  Train F1 Score  \\\n",
       "0   0.777292  0.604420       0.865728      0.591901        0.759689   \n",
       "1   0.773336  0.605497       0.864443      0.594875        0.756171   \n",
       "2   0.782391  0.608193       0.869592      0.597650        0.764826   \n",
       "3   0.772857  0.606080       0.861451      0.592421        0.754623   \n",
       "4   0.780658  0.610665       0.867384      0.595880        0.762345   \n",
       "\n",
       "   Test F1 Score  Train Matthews Corr Coef  Test Matthews Corr Coef  \n",
       "0       0.562478                  0.526673                 0.125610  \n",
       "1       0.565359                  0.520505                 0.132135  \n",
       "2       0.565918                  0.536029                 0.132818  \n",
       "3       0.564640                  0.516003                 0.130077  \n",
       "4       0.567468                  0.530608                 0.135242  "
      ]
     },
     "execution_count": 52,
     "metadata": {},
     "output_type": "execute_result"
    }
   ],
   "source": [
    "dfcc_result = pd.DataFrame(data_set)\n",
    "dfcc_result"
   ]
  },
  {
   "cell_type": "code",
   "execution_count": 53,
   "metadata": {},
   "outputs": [
    {
     "name": "stdout",
     "output_type": "stream",
     "text": [
      "Average Train Acc:  0.7773068722640888\n",
      "Average Test Acc:  0.6069711403829492\n",
      "Average Train ROC AUC:  0.8657197556750976\n",
      "Average Test ROC AUC:  0.594545619289174\n",
      "Average Train F1 Score:  0.7595308475380955\n",
      "Average Test F1 Score:  0.565172674064493\n",
      "Average Train Matthews Corr Coef:  0.5259635590409723\n",
      "Average Test Matthews Corr Coef:  0.1311763616084292\n"
     ]
    }
   ],
   "source": [
    "for item in data_set.keys():\n",
    "    print('Average ' + str(item) +': ', np.mean(data_set[item]))"
   ]
  },
  {
   "cell_type": "code",
   "execution_count": 54,
   "metadata": {
    "scrolled": true
   },
   "outputs": [
    {
     "name": "stdout",
     "output_type": "stream",
     "text": [
      "              precision    recall  f1-score   support\n",
      "\n",
      "           0       0.87      0.78      0.82    126419\n",
      "           1       0.64      0.76      0.69     62910\n",
      "\n",
      "    accuracy                           0.78    189329\n",
      "   macro avg       0.75      0.77      0.76    189329\n",
      "weighted avg       0.79      0.78      0.78    189329\n",
      "\n",
      "              precision    recall  f1-score   support\n",
      "\n",
      "           0       0.87      0.78      0.82    126302\n",
      "           1       0.63      0.76      0.69     63027\n",
      "\n",
      "    accuracy                           0.77    189329\n",
      "   macro avg       0.75      0.77      0.76    189329\n",
      "weighted avg       0.79      0.77      0.78    189329\n",
      "\n",
      "              precision    recall  f1-score   support\n",
      "\n",
      "           0       0.87      0.79      0.83    126244\n",
      "           1       0.65      0.76      0.70     63086\n",
      "\n",
      "    accuracy                           0.78    189330\n",
      "   macro avg       0.76      0.78      0.76    189330\n",
      "weighted avg       0.80      0.78      0.79    189330\n",
      "\n",
      "              precision    recall  f1-score   support\n",
      "\n",
      "           0       0.86      0.78      0.82    126391\n",
      "           1       0.63      0.75      0.69     62939\n",
      "\n",
      "    accuracy                           0.77    189330\n",
      "   macro avg       0.75      0.77      0.75    189330\n",
      "weighted avg       0.79      0.77      0.78    189330\n",
      "\n",
      "              precision    recall  f1-score   support\n",
      "\n",
      "           0       0.87      0.79      0.83    126440\n",
      "           1       0.64      0.76      0.70     62890\n",
      "\n",
      "    accuracy                           0.78    189330\n",
      "   macro avg       0.76      0.77      0.76    189330\n",
      "weighted avg       0.79      0.78      0.78    189330\n",
      "\n"
     ]
    }
   ],
   "source": [
    "for n,item in enumerate(report):\n",
    "    print(item)"
   ]
  },
  {
   "cell_type": "code",
   "execution_count": 55,
   "metadata": {
    "scrolled": true
   },
   "outputs": [
    {
     "name": "stdout",
     "output_type": "stream",
     "text": [
      "              precision    recall  f1-score   support\n",
      "\n",
      "           0       0.71      0.69      0.70     31530\n",
      "           1       0.41      0.44      0.43     15803\n",
      "\n",
      "    accuracy                           0.60     47333\n",
      "   macro avg       0.56      0.56      0.56     47333\n",
      "weighted avg       0.61      0.60      0.61     47333\n",
      "\n",
      "              precision    recall  f1-score   support\n",
      "\n",
      "           0       0.72      0.68      0.70     31647\n",
      "           1       0.41      0.46      0.43     15686\n",
      "\n",
      "    accuracy                           0.61     47333\n",
      "   macro avg       0.56      0.57      0.57     47333\n",
      "weighted avg       0.62      0.61      0.61     47333\n",
      "\n",
      "              precision    recall  f1-score   support\n",
      "\n",
      "           0       0.72      0.69      0.70     31705\n",
      "           1       0.41      0.45      0.43     15627\n",
      "\n",
      "    accuracy                           0.61     47332\n",
      "   macro avg       0.57      0.57      0.57     47332\n",
      "weighted avg       0.62      0.61      0.61     47332\n",
      "\n",
      "              precision    recall  f1-score   support\n",
      "\n",
      "           0       0.71      0.69      0.70     31558\n",
      "           1       0.42      0.45      0.43     15774\n",
      "\n",
      "    accuracy                           0.61     47332\n",
      "   macro avg       0.56      0.57      0.56     47332\n",
      "weighted avg       0.61      0.61      0.61     47332\n",
      "\n",
      "              precision    recall  f1-score   support\n",
      "\n",
      "           0       0.71      0.70      0.70     31509\n",
      "           1       0.42      0.44      0.43     15823\n",
      "\n",
      "    accuracy                           0.61     47332\n",
      "   macro avg       0.57      0.57      0.57     47332\n",
      "weighted avg       0.62      0.61      0.61     47332\n",
      "\n"
     ]
    }
   ],
   "source": [
    "for n,item in enumerate(report_v):\n",
    "    print(item)"
   ]
  },
  {
   "cell_type": "markdown",
   "metadata": {},
   "source": [
    "# Gradient Boosting\n",
    "\n",
    "Membandingkan Gradient Boosting dan Random Forest\n",
    "\n",
    "### Training Model \n",
    "Evaluasi kembali feature importance yang digunakan.\n",
    "\n",
    "## Train Test Split"
   ]
  },
  {
   "cell_type": "code",
   "execution_count": 56,
   "metadata": {},
   "outputs": [],
   "source": [
    "from sklearn.model_selection import train_test_split"
   ]
  },
  {
   "cell_type": "code",
   "execution_count": 57,
   "metadata": {},
   "outputs": [],
   "source": [
    "X =df.drop(['DELAY','TOTAL_DELAY','TOTAL_DELAY_MIN',\n",
    "           ],axis=1)\n",
    "y = df['DELAY']"
   ]
  },
  {
   "cell_type": "code",
   "execution_count": 58,
   "metadata": {},
   "outputs": [
    {
     "data": {
      "text/plain": [
       "AIRLINE                int32\n",
       "ORIGIN_AIRPORT         int32\n",
       "DESTINATION_AIRPORT    int32\n",
       "DISTANCE               int64\n",
       "SD_DAY                 int64\n",
       "SD_MONTH               int64\n",
       "SD_HOUR                int64\n",
       "DEPARTURE_DELAY        int64\n",
       "SA_DAY                 int64\n",
       "SA_MONTH               int64\n",
       "SA_HOUR                int64\n",
       "ARRIVAL_DELAY          int64\n",
       "TAXI_OUT               int64\n",
       "WHEELS_OFF             int64\n",
       "AIR_TIME               int64\n",
       "WHEELS_ON              int64\n",
       "TAXI_IN                int64\n",
       "ELAPSED_TIME           int64\n",
       "SCHEDULED_TIME         int64\n",
       "dtype: object"
      ]
     },
     "execution_count": 58,
     "metadata": {},
     "output_type": "execute_result"
    }
   ],
   "source": [
    "X.dtypes"
   ]
  },
  {
   "cell_type": "code",
   "execution_count": 59,
   "metadata": {},
   "outputs": [],
   "source": [
    "X_train, X_test, y_train, y_test = train_test_split(X, y, test_size=0.3,random_state=101)"
   ]
  },
  {
   "cell_type": "code",
   "execution_count": 60,
   "metadata": {},
   "outputs": [],
   "source": [
    "from xgboost import XGBClassifier"
   ]
  },
  {
   "cell_type": "code",
   "execution_count": 61,
   "metadata": {},
   "outputs": [],
   "source": [
    "xgb_1 = XGBClassifier(learning_rate=0.1)"
   ]
  },
  {
   "cell_type": "code",
   "execution_count": 62,
   "metadata": {},
   "outputs": [
    {
     "data": {
      "text/plain": [
       "XGBClassifier(base_score=0.5, booster='gbtree', colsample_bylevel=1,\n",
       "              colsample_bynode=1, colsample_bytree=1, gamma=0,\n",
       "              learning_rate=0.1, max_delta_step=0, max_depth=3,\n",
       "              min_child_weight=1, missing=None, n_estimators=100, n_jobs=1,\n",
       "              nthread=None, objective='binary:logistic', random_state=0,\n",
       "              reg_alpha=0, reg_lambda=1, scale_pos_weight=1, seed=None,\n",
       "              silent=None, subsample=1, verbosity=1)"
      ]
     },
     "execution_count": 62,
     "metadata": {},
     "output_type": "execute_result"
    }
   ],
   "source": [
    "xgb_1.fit(X_train, y_train)"
   ]
  },
  {
   "cell_type": "code",
   "execution_count": 63,
   "metadata": {},
   "outputs": [],
   "source": [
    "from sklearn.metrics import classification_report,confusion_matrix,matthews_corrcoef, roc_auc_score, confusion_matrix, accuracy_score, roc_curve, auc,f1_score"
   ]
  },
  {
   "cell_type": "code",
   "execution_count": 64,
   "metadata": {},
   "outputs": [],
   "source": [
    "predict = xgb_1.predict(X_test)\n",
    "predictProb = xgb_1.predict_proba(X_test)"
   ]
  },
  {
   "cell_type": "code",
   "execution_count": 65,
   "metadata": {},
   "outputs": [],
   "source": [
    "predict_tr = xgb_1.predict(X_train)\n",
    "predictProb_tr = xgb_1.predict_proba(X_train)"
   ]
  },
  {
   "cell_type": "code",
   "execution_count": 66,
   "metadata": {},
   "outputs": [
    {
     "name": "stdout",
     "output_type": "stream",
     "text": [
      "              precision    recall  f1-score   support\n",
      "\n",
      "           0       0.67      1.00      0.80    110623\n",
      "           1       0.62      0.01      0.03     55040\n",
      "\n",
      "    accuracy                           0.67    165663\n",
      "   macro avg       0.65      0.50      0.41    165663\n",
      "weighted avg       0.65      0.67      0.54    165663\n",
      "\n"
     ]
    }
   ],
   "source": [
    "print(classification_report(y_train,predict_tr))"
   ]
  },
  {
   "cell_type": "code",
   "execution_count": 67,
   "metadata": {},
   "outputs": [
    {
     "name": "stdout",
     "output_type": "stream",
     "text": [
      "ROC AUC : 0.6025424659004478\n",
      "Accuracy : 0.6694796061884669\n",
      "Matthews Corr_coef : 0.05184200663195703\n"
     ]
    }
   ],
   "source": [
    "print('ROC AUC :', roc_auc_score(y_train, predictProb_tr[:,1]))\n",
    "print('Accuracy :',accuracy_score(y_train, predict_tr))\n",
    "print('Matthews Corr_coef :',matthews_corrcoef(y_train, predict_tr))"
   ]
  },
  {
   "cell_type": "code",
   "execution_count": 68,
   "metadata": {},
   "outputs": [
    {
     "name": "stdout",
     "output_type": "stream",
     "text": [
      "              precision    recall  f1-score   support\n",
      "\n",
      "           0       0.67      1.00      0.80     47326\n",
      "           1       0.57      0.01      0.02     23673\n",
      "\n",
      "    accuracy                           0.67     70999\n",
      "   macro avg       0.62      0.50      0.41     70999\n",
      "weighted avg       0.63      0.67      0.54     70999\n",
      "\n"
     ]
    }
   ],
   "source": [
    "print(classification_report(y_test,predict))"
   ]
  },
  {
   "cell_type": "code",
   "execution_count": 69,
   "metadata": {},
   "outputs": [
    {
     "name": "stdout",
     "output_type": "stream",
     "text": [
      "ROC AUC : 0.5985423415582909\n",
      "Accuracy : 0.667516443893576\n",
      "Matthews Corr_coef : 0.041670305976768185\n"
     ]
    }
   ],
   "source": [
    "print('ROC AUC :', roc_auc_score(y_test, predictProb[:,1]))\n",
    "print('Accuracy :',accuracy_score(y_test, predict))\n",
    "print('Matthews Corr_coef :',matthews_corrcoef(y_test, predict))"
   ]
  },
  {
   "cell_type": "code",
   "execution_count": 70,
   "metadata": {},
   "outputs": [
    {
     "data": {
      "text/plain": [
       "<matplotlib.axes._subplots.AxesSubplot at 0x2148301b3c8>"
      ]
     },
     "execution_count": 70,
     "metadata": {},
     "output_type": "execute_result"
    },
    {
     "data": {
      "image/png": "[encoded data removed]",
      "text/plain": [
       "<Figure size 1440x1440 with 1 Axes>"
      ]
     },
     "metadata": {
      "needs_background": "light"
     },
     "output_type": "display_data"
    }
   ],
   "source": [
    "plt.figure(figsize =(20,20))\n",
    "coef1 = pd.Series(xgb_1.feature_importances_, X_train.columns).sort_values(ascending = True)\n",
    "coef1.plot(kind='barh', title='Feature Importances')"
   ]
  },
  {
   "cell_type": "markdown",
   "metadata": {},
   "source": [
    "# Hasil pengecekan Feature Importance Model Gradient Boosting justru menunjukkan performa yang lebih buruk daripada Random Forest, walau memiliki tingkat accuracy sedikit lebih baik. \n",
    "# Akan tetapi Random Forest akan dipilih karna memiliki hasil feature importance yang lebih balance untuk itu \"Random Forest\" adalah model yang akan digunakan.\n",
    "\n",
    "### ----------------------------------------------------------------------------------------------------------------------------"
   ]
  },
  {
   "cell_type": "markdown",
   "metadata": {},
   "source": [
    "# Kesimpulan : \n",
    "## Dengan model machine learning dapat mempermudah dalam prediksi sebuah penerbangan akan terkena delay ataupun tidak.\n",
    "## Bila dapat diprediksi, mempermudah pihak maskapai, bandara, maupun staff untuk menyiapkan prosedur operasional yang harus dilaksanakan, untuk menghindari keterlambatan lebih lama\n",
    "## Bagi pengguna, apabila dapat memprediksi delaynya pesawat. Pengguna dapat memanfaatkan dan mengatur kembali jadwal maupun waktunya yang berharga, ataupun  aware terhadap hak -hak pengguna penerbangan yang bisa didapatkan."
   ]
  },
  {
   "cell_type": "code",
   "execution_count": 71,
   "metadata": {},
   "outputs": [
    {
     "name": "stdout",
     "output_type": "stream",
     "text": [
      "58.04 % [0]\n"
     ]
    }
   ],
   "source": [
    "# rfc_2.predict([[ \tDISTANCE \tSD_DAY \tSD_MONTH \tSD_HOUR \tSA_DAY \tSA_MONTH \tSA_HOUR \tAIR_TIME \tSCHEDULED_TIME]])\n",
    "# rfc_2.predict_proba([[ \tDISTANCE \tSD_DAY \tSD_MONTH \tSD_HOUR \tSA_DAY \tSA_MONTH \tSA_HOUR \tAIR_TIME \tSCHEDULED_TIME]])\n",
    "\n",
    "predict = (rfc_2.predict([[ 0, 309,  82, 1489, 27, 7, 12, 27, 7, 18, 188, 205 ]]))\n",
    "predictProb = rfc_2.predict_proba([[ 0, 309,  82, 1489, 27, 7, 12, 27, 7, 18, 188, 205 ]])\n",
    "print(round(np.max(predictProb) *100, 2 ), '%', predict)"
   ]
  },
  {
   "cell_type": "code",
   "execution_count": 72,
   "metadata": {},
   "outputs": [],
   "source": [
    "import joblib\n",
    "filename = 'flight_rfc_model_revisi.sav';\n",
    "joblib.dump(rfc_2, open(filename, 'wb'))"
   ]
  }
 ],
 "metadata": {
  "kernelspec": {
   "display_name": "Python 3",
   "language": "python",
   "name": "python3"
  },
  "language_info": {
   "codemirror_mode": {
    "name": "ipython",
    "version": 3
   },
   "file_extension": ".py",
   "mimetype": "text/x-python",
   "name": "python",
   "nbconvert_exporter": "python",
   "pygments_lexer": "ipython3",
   "version": "3.7.1"
  }
 },
 "nbformat": 4,
 "nbformat_minor": 4
}
